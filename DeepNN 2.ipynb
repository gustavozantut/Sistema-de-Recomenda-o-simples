{
 "cells": [
  {
   "cell_type": "code",
   "execution_count": 1,
   "metadata": {},
   "outputs": [
    {
     "name": "stderr",
     "output_type": "stream",
     "text": [
      "Using TensorFlow backend.\n",
      "C:\\Users\\Gustavo\\anaconda3\\lib\\site-packages\\tensorflow\\python\\framework\\dtypes.py:516: FutureWarning: Passing (type, 1) or '1type' as a synonym of type is deprecated; in a future version of numpy, it will be understood as (type, (1,)) / '(1,)type'.\n",
      "  _np_qint8 = np.dtype([(\"qint8\", np.int8, 1)])\n",
      "C:\\Users\\Gustavo\\anaconda3\\lib\\site-packages\\tensorflow\\python\\framework\\dtypes.py:517: FutureWarning: Passing (type, 1) or '1type' as a synonym of type is deprecated; in a future version of numpy, it will be understood as (type, (1,)) / '(1,)type'.\n",
      "  _np_quint8 = np.dtype([(\"quint8\", np.uint8, 1)])\n",
      "C:\\Users\\Gustavo\\anaconda3\\lib\\site-packages\\tensorflow\\python\\framework\\dtypes.py:518: FutureWarning: Passing (type, 1) or '1type' as a synonym of type is deprecated; in a future version of numpy, it will be understood as (type, (1,)) / '(1,)type'.\n",
      "  _np_qint16 = np.dtype([(\"qint16\", np.int16, 1)])\n",
      "C:\\Users\\Gustavo\\anaconda3\\lib\\site-packages\\tensorflow\\python\\framework\\dtypes.py:519: FutureWarning: Passing (type, 1) or '1type' as a synonym of type is deprecated; in a future version of numpy, it will be understood as (type, (1,)) / '(1,)type'.\n",
      "  _np_quint16 = np.dtype([(\"quint16\", np.uint16, 1)])\n",
      "C:\\Users\\Gustavo\\anaconda3\\lib\\site-packages\\tensorflow\\python\\framework\\dtypes.py:520: FutureWarning: Passing (type, 1) or '1type' as a synonym of type is deprecated; in a future version of numpy, it will be understood as (type, (1,)) / '(1,)type'.\n",
      "  _np_qint32 = np.dtype([(\"qint32\", np.int32, 1)])\n",
      "C:\\Users\\Gustavo\\anaconda3\\lib\\site-packages\\tensorflow\\python\\framework\\dtypes.py:525: FutureWarning: Passing (type, 1) or '1type' as a synonym of type is deprecated; in a future version of numpy, it will be understood as (type, (1,)) / '(1,)type'.\n",
      "  np_resource = np.dtype([(\"resource\", np.ubyte, 1)])\n",
      "C:\\Users\\Gustavo\\anaconda3\\lib\\site-packages\\tensorboard\\compat\\tensorflow_stub\\dtypes.py:541: FutureWarning: Passing (type, 1) or '1type' as a synonym of type is deprecated; in a future version of numpy, it will be understood as (type, (1,)) / '(1,)type'.\n",
      "  _np_qint8 = np.dtype([(\"qint8\", np.int8, 1)])\n",
      "C:\\Users\\Gustavo\\anaconda3\\lib\\site-packages\\tensorboard\\compat\\tensorflow_stub\\dtypes.py:542: FutureWarning: Passing (type, 1) or '1type' as a synonym of type is deprecated; in a future version of numpy, it will be understood as (type, (1,)) / '(1,)type'.\n",
      "  _np_quint8 = np.dtype([(\"quint8\", np.uint8, 1)])\n",
      "C:\\Users\\Gustavo\\anaconda3\\lib\\site-packages\\tensorboard\\compat\\tensorflow_stub\\dtypes.py:543: FutureWarning: Passing (type, 1) or '1type' as a synonym of type is deprecated; in a future version of numpy, it will be understood as (type, (1,)) / '(1,)type'.\n",
      "  _np_qint16 = np.dtype([(\"qint16\", np.int16, 1)])\n",
      "C:\\Users\\Gustavo\\anaconda3\\lib\\site-packages\\tensorboard\\compat\\tensorflow_stub\\dtypes.py:544: FutureWarning: Passing (type, 1) or '1type' as a synonym of type is deprecated; in a future version of numpy, it will be understood as (type, (1,)) / '(1,)type'.\n",
      "  _np_quint16 = np.dtype([(\"quint16\", np.uint16, 1)])\n",
      "C:\\Users\\Gustavo\\anaconda3\\lib\\site-packages\\tensorboard\\compat\\tensorflow_stub\\dtypes.py:545: FutureWarning: Passing (type, 1) or '1type' as a synonym of type is deprecated; in a future version of numpy, it will be understood as (type, (1,)) / '(1,)type'.\n",
      "  _np_qint32 = np.dtype([(\"qint32\", np.int32, 1)])\n",
      "C:\\Users\\Gustavo\\anaconda3\\lib\\site-packages\\tensorboard\\compat\\tensorflow_stub\\dtypes.py:550: FutureWarning: Passing (type, 1) or '1type' as a synonym of type is deprecated; in a future version of numpy, it will be understood as (type, (1,)) / '(1,)type'.\n",
      "  np_resource = np.dtype([(\"resource\", np.ubyte, 1)])\n"
     ]
    }
   ],
   "source": [
    "# https://udemy.com/recommender-systems\n",
    "# https://deeplearningcourses.com/recommender-systems\n",
    "from __future__ import print_function, division\n",
    "from builtins import range, input\n",
    "\n",
    "\n",
    "import pickle\n",
    "import numpy as np\n",
    "import pandas as pd\n",
    "import matplotlib.pyplot as plt\n",
    "from sklearn.utils import shuffle\n",
    "\n",
    "from keras.models import Model\n",
    "from keras.layers import Input, Embedding, Flatten, Dense, Concatenate\n",
    "from keras.layers import Dropout, BatchNormalization, Activation\n",
    "from keras.regularizers import l2\n",
    "from keras.optimizers import SGD, Adam\n",
    "\n",
    "# load in the data\n",
    "df = pd.read_csv('large_files/movielens-20m-dataset/edited_rating.csv')\n",
    "\n",
    "N = df.userId.max() + 1 # number of users\n",
    "M = df.movie_idx.max() + 1 # number of movies\n",
    "\n",
    "# split into train and test\n",
    "df = shuffle(df)\n",
    "cutoff = int(0.8*len(df))\n",
    "df_train = df.iloc[:cutoff]\n",
    "df_test = df.iloc[cutoff:]\n",
    "\n",
    "# initialize variables\n",
    "K = 10 # latent dimensionality\n",
    "mu = df_train.rating.mean()\n",
    "epochs = 15\n",
    "# reg = 0.0001 # regularization penalty\n",
    "#nota: os warnings exibidos abaixo são provenientes do uso do tensorflow com a gpu e versoes do numpy suportadas"
   ]
  },
  {
   "cell_type": "code",
   "execution_count": 2,
   "metadata": {},
   "outputs": [],
   "source": [
    "# utilizamos o vetor de features de usuario e filme concatenados criado pelo KERAS como entrada da rede neural\n",
    "u = Input(shape=(1,))\n",
    "m = Input(shape=(1,))\n",
    "u_embedding = Embedding(N, K)(u) # (N, 1, K)\n",
    "m_embedding = Embedding(M, K)(m) # (N, 1, K)\n",
    "u_embedding = Flatten()(u_embedding) # (N, K)\n",
    "m_embedding = Flatten()(m_embedding) # (N, K)\n",
    "x = Concatenate()([u_embedding, m_embedding]) # (N, 2K)\n"
   ]
  },
  {
   "cell_type": "code",
   "execution_count": 3,
   "metadata": {},
   "outputs": [],
   "source": [
    "# the neural network\n",
    "x = Dense(700)(x)\n",
    "# x = BatchNormalization()(x)\n",
    "x = Activation('relu')(x)\n",
    "x = Dropout(0.5)(x)\n",
    "x = Dense(200)(x)\n",
    "x = BatchNormalization()(x)\n",
    "x = Activation('relu')(x)\n",
    "x = Dense(1)(x)"
   ]
  },
  {
   "cell_type": "code",
   "execution_count": 4,
   "metadata": {},
   "outputs": [
    {
     "name": "stdout",
     "output_type": "stream",
     "text": [
      "WARNING:tensorflow:From C:\\Users\\Gustavo\\anaconda3\\lib\\site-packages\\keras\\backend\\tensorflow_backend.py:422: The name tf.global_variables is deprecated. Please use tf.compat.v1.global_variables instead.\n",
      "\n",
      "Train on 16000210 samples, validate on 4000053 samples\n",
      "Epoch 1/15\n",
      "16000210/16000210 [==============================] - 699s 44us/step - loss: 1.1180 - mse: 1.1180 - val_loss: 1.1139 - val_mse: 1.1139\n",
      "Epoch 2/15\n",
      "16000210/16000210 [==============================] - 692s 43us/step - loss: 1.1138 - mse: 1.1138 - val_loss: 1.1150 - val_mse: 1.1150\n",
      "Epoch 3/15\n",
      "16000210/16000210 [==============================] - 688s 43us/step - loss: 1.1138 - mse: 1.1138 - val_loss: 1.1083 - val_mse: 1.1083\n",
      "Epoch 4/15\n",
      "16000210/16000210 [==============================] - 688s 43us/step - loss: 1.1138 - mse: 1.1139 - val_loss: 1.1076 - val_mse: 1.1076\n",
      "Epoch 5/15\n",
      "16000210/16000210 [==============================] - 705s 44us/step - loss: 1.1139 - mse: 1.1139 - val_loss: 1.1075 - val_mse: 1.1075\n",
      "Epoch 6/15\n",
      "16000210/16000210 [==============================] - 718s 45us/step - loss: 1.1137 - mse: 1.1137 - val_loss: 1.1155 - val_mse: 1.1155\n",
      "Epoch 7/15\n",
      "16000210/16000210 [==============================] - 666s 42us/step - loss: 1.1138 - mse: 1.1138 - val_loss: 1.1383 - val_mse: 1.1383\n",
      "Epoch 8/15\n",
      "16000210/16000210 [==============================] - 654s 41us/step - loss: 1.1138 - mse: 1.1138 - val_loss: 1.1121 - val_mse: 1.1121\n",
      "Epoch 9/15\n",
      "16000210/16000210 [==============================] - 676s 42us/step - loss: 1.1139 - mse: 1.1139 - val_loss: 1.1097 - val_mse: 1.1097\n",
      "Epoch 10/15\n",
      "16000210/16000210 [==============================] - 702s 44us/step - loss: 1.1140 - mse: 1.1140 - val_loss: 1.1069 - val_mse: 1.1069\n",
      "Epoch 11/15\n",
      "16000210/16000210 [==============================] - 667s 42us/step - loss: 1.1141 - mse: 1.1141 - val_loss: 1.1135 - val_mse: 1.1135\n",
      "Epoch 12/15\n",
      "16000210/16000210 [==============================] - 795s 50us/step - loss: 1.1137 - mse: 1.1137 - val_loss: 1.1113 - val_mse: 1.1113\n",
      "Epoch 13/15\n",
      "16000210/16000210 [==============================] - 991s 62us/step - loss: 1.1138 - mse: 1.1138 - val_loss: 1.1129 - val_mse: 1.1129\n",
      "Epoch 14/15\n",
      "16000210/16000210 [==============================] - 909s 57us/step - loss: 1.1139 - mse: 1.1139 - val_loss: 1.1093 - val_mse: 1.1093\n",
      "Epoch 15/15\n",
      "16000210/16000210 [==============================] - 697s 44us/step - loss: 1.1139 - mse: 1.1139 - val_loss: 1.1111 - val_mse: 1.1111\n"
     ]
    }
   ],
   "source": [
    "model = Model(inputs=[u, m], outputs=x)\n",
    "model.compile(\n",
    "  loss='mse',\n",
    "  # optimizer='adam',\n",
    "  # optimizer=Adam(lr=0.01),\n",
    "  optimizer=SGD(lr=0.08, momentum=0.9),\n",
    "  metrics=['mse'],\n",
    ")\n",
    "\n",
    "r = model.fit(\n",
    "  x=[df_train.userId.values, df_train.movie_idx.values],\n",
    "  y=df_train.rating.values - mu,\n",
    "  epochs=epochs,\n",
    "  batch_size=128,\n",
    "  validation_data=(\n",
    "    [df_test.userId.values, df_test.movie_idx.values],\n",
    "    df_test.rating.values - mu\n",
    "  )\n",
    ")\n"
   ]
  },
  {
   "cell_type": "code",
   "execution_count": 5,
   "metadata": {},
   "outputs": [
    {
     "data": {
      "image/png": "[encoded data removed]",
      "text/plain": [
       "<Figure size 432x288 with 1 Axes>"
      ]
     },
     "metadata": {
      "needs_background": "light"
     },
     "output_type": "display_data"
    }
   ],
   "source": [
    "# plot losses\n",
    "plt.plot(r.history['loss'], label=\"train loss\")\n",
    "plt.plot(r.history['val_loss'], label=\"test loss\")\n",
    "plt.legend()\n",
    "plt.show()"
   ]
  },
  {
   "cell_type": "code",
   "execution_count": 6,
   "metadata": {},
   "outputs": [],
   "source": [
    "#Plotamos o erro quadratico medio caso utilizemos regularizacao\n",
    "# plot mse\n",
    "#plt.plot(r.history['mse'], label=\"train mse\")\n",
    "#plt.plot(r.history['val_mse'], label=\"test mse\")\n",
    "#plt.legend()\n",
    "#plt.show()"
   ]
  }
 ],
 "metadata": {
  "kernelspec": {
   "display_name": "Python 3",
   "language": "python",
   "name": "python3"
  },
  "language_info": {
   "codemirror_mode": {
    "name": "ipython",
    "version": 3
   },
   "file_extension": ".py",
   "mimetype": "text/x-python",
   "name": "python",
   "nbconvert_exporter": "python",
   "pygments_lexer": "ipython3",
   "version": "3.7.6"
  }
 },
 "nbformat": 4,
 "nbformat_minor": 4
}
