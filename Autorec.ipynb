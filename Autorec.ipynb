{
 "cells": [
  {
   "cell_type": "code",
   "execution_count": 1,
   "metadata": {
    "scrolled": true
   },
   "outputs": [
    {
     "name": "stderr",
     "output_type": "stream",
     "text": [
      "Using TensorFlow backend.\n",
      "C:\\Users\\Gustavo\\anaconda3\\lib\\site-packages\\tensorflow\\python\\framework\\dtypes.py:516: FutureWarning: Passing (type, 1) or '1type' as a synonym of type is deprecated; in a future version of numpy, it will be understood as (type, (1,)) / '(1,)type'.\n",
      "  _np_qint8 = np.dtype([(\"qint8\", np.int8, 1)])\n",
      "C:\\Users\\Gustavo\\anaconda3\\lib\\site-packages\\tensorflow\\python\\framework\\dtypes.py:517: FutureWarning: Passing (type, 1) or '1type' as a synonym of type is deprecated; in a future version of numpy, it will be understood as (type, (1,)) / '(1,)type'.\n",
      "  _np_quint8 = np.dtype([(\"quint8\", np.uint8, 1)])\n",
      "C:\\Users\\Gustavo\\anaconda3\\lib\\site-packages\\tensorflow\\python\\framework\\dtypes.py:518: FutureWarning: Passing (type, 1) or '1type' as a synonym of type is deprecated; in a future version of numpy, it will be understood as (type, (1,)) / '(1,)type'.\n",
      "  _np_qint16 = np.dtype([(\"qint16\", np.int16, 1)])\n",
      "C:\\Users\\Gustavo\\anaconda3\\lib\\site-packages\\tensorflow\\python\\framework\\dtypes.py:519: FutureWarning: Passing (type, 1) or '1type' as a synonym of type is deprecated; in a future version of numpy, it will be understood as (type, (1,)) / '(1,)type'.\n",
      "  _np_quint16 = np.dtype([(\"quint16\", np.uint16, 1)])\n",
      "C:\\Users\\Gustavo\\anaconda3\\lib\\site-packages\\tensorflow\\python\\framework\\dtypes.py:520: FutureWarning: Passing (type, 1) or '1type' as a synonym of type is deprecated; in a future version of numpy, it will be understood as (type, (1,)) / '(1,)type'.\n",
      "  _np_qint32 = np.dtype([(\"qint32\", np.int32, 1)])\n",
      "C:\\Users\\Gustavo\\anaconda3\\lib\\site-packages\\tensorflow\\python\\framework\\dtypes.py:525: FutureWarning: Passing (type, 1) or '1type' as a synonym of type is deprecated; in a future version of numpy, it will be understood as (type, (1,)) / '(1,)type'.\n",
      "  np_resource = np.dtype([(\"resource\", np.ubyte, 1)])\n",
      "C:\\Users\\Gustavo\\anaconda3\\lib\\site-packages\\tensorboard\\compat\\tensorflow_stub\\dtypes.py:541: FutureWarning: Passing (type, 1) or '1type' as a synonym of type is deprecated; in a future version of numpy, it will be understood as (type, (1,)) / '(1,)type'.\n",
      "  _np_qint8 = np.dtype([(\"qint8\", np.int8, 1)])\n",
      "C:\\Users\\Gustavo\\anaconda3\\lib\\site-packages\\tensorboard\\compat\\tensorflow_stub\\dtypes.py:542: FutureWarning: Passing (type, 1) or '1type' as a synonym of type is deprecated; in a future version of numpy, it will be understood as (type, (1,)) / '(1,)type'.\n",
      "  _np_quint8 = np.dtype([(\"quint8\", np.uint8, 1)])\n",
      "C:\\Users\\Gustavo\\anaconda3\\lib\\site-packages\\tensorboard\\compat\\tensorflow_stub\\dtypes.py:543: FutureWarning: Passing (type, 1) or '1type' as a synonym of type is deprecated; in a future version of numpy, it will be understood as (type, (1,)) / '(1,)type'.\n",
      "  _np_qint16 = np.dtype([(\"qint16\", np.int16, 1)])\n",
      "C:\\Users\\Gustavo\\anaconda3\\lib\\site-packages\\tensorboard\\compat\\tensorflow_stub\\dtypes.py:544: FutureWarning: Passing (type, 1) or '1type' as a synonym of type is deprecated; in a future version of numpy, it will be understood as (type, (1,)) / '(1,)type'.\n",
      "  _np_quint16 = np.dtype([(\"quint16\", np.uint16, 1)])\n",
      "C:\\Users\\Gustavo\\anaconda3\\lib\\site-packages\\tensorboard\\compat\\tensorflow_stub\\dtypes.py:545: FutureWarning: Passing (type, 1) or '1type' as a synonym of type is deprecated; in a future version of numpy, it will be understood as (type, (1,)) / '(1,)type'.\n",
      "  _np_qint32 = np.dtype([(\"qint32\", np.int32, 1)])\n",
      "C:\\Users\\Gustavo\\anaconda3\\lib\\site-packages\\tensorboard\\compat\\tensorflow_stub\\dtypes.py:550: FutureWarning: Passing (type, 1) or '1type' as a synonym of type is deprecated; in a future version of numpy, it will be understood as (type, (1,)) / '(1,)type'.\n",
      "  np_resource = np.dtype([(\"resource\", np.ubyte, 1)])\n"
     ]
    },
    {
     "name": "stdout",
     "output_type": "stream",
     "text": [
      "N: 138493 M: 26744\n",
      "N // batch_size: 1081\n",
      "mu: 3.5254311349663534\n"
     ]
    }
   ],
   "source": [
    "# https://udemy.com/recommender-systems\n",
    "# https://deeplearningcourses.com/recommender-systems\n",
    "from __future__ import print_function, division\n",
    "from builtins import range\n",
    "\n",
    "\n",
    "import numpy as np\n",
    "import pandas as pd\n",
    "import matplotlib.pyplot as plt\n",
    "from sklearn.utils import shuffle\n",
    "from scipy.sparse import save_npz, load_npz\n",
    "\n",
    "import keras.backend as K\n",
    "from keras.models import Model\n",
    "from keras.layers import Input, Dropout, Dense\n",
    "from keras.regularizers import l2\n",
    "from keras.optimizers import SGD\n",
    "\n",
    "# config\n",
    "batch_size = 128\n",
    "epochs = 20\n",
    "reg = 0.0001\n",
    "# reg = 0\n",
    "\n",
    "# esses arquivos são gerados pelo notebook \"Preprocessing sparse matrix\"\n",
    "A = load_npz(\"Atrain.npz\")\n",
    "A_test = load_npz(\"Atest.npz\")\n",
    "mask = (A > 0) * 1.0\n",
    "mask_test = (A_test > 0) * 1.0\n",
    "\n",
    "# make copies since we will shuffle\n",
    "A_copy = A.copy()\n",
    "mask_copy = mask.copy()\n",
    "A_test_copy = A_test.copy()\n",
    "mask_test_copy = mask_test.copy()\n",
    "\n",
    "N, M = A.shape\n",
    "print(\"N:\", N, \"M:\", M)\n",
    "print(\"N // batch_size:\", N // batch_size)\n",
    "\n",
    "# center the data\n",
    "mu = A.sum() / mask.sum()\n",
    "print(\"mu:\", mu)"
   ]
  },
  {
   "cell_type": "code",
   "execution_count": 2,
   "metadata": {},
   "outputs": [
    {
     "name": "stdout",
     "output_type": "stream",
     "text": [
      "WARNING:tensorflow:Large dropout rate: 0.7 (>0.5). In TensorFlow 2.x, dropout() uses dropout rate instead of keep_prob. Please ensure that this is intended.\n"
     ]
    }
   ],
   "source": [
    "# build the model - just a 1 hidden layer autoencoder\n",
    "i = Input(shape=(M,))\n",
    "# bigger hidden layer size seems to help!\n",
    "x = Dropout(0.7)(i)\n",
    "x = Dense(700, activation='tanh', kernel_regularizer=l2(reg))(x)\n",
    "# x = Dropout(0.5)(x)\n",
    "x = Dense(M, kernel_regularizer=l2(reg))(x)"
   ]
  },
  {
   "cell_type": "code",
   "execution_count": 3,
   "metadata": {},
   "outputs": [],
   "source": [
    "def custom_loss(y_true, y_pred):\n",
    "  mask = K.cast(K.not_equal(y_true, 0), dtype='float32')\n",
    "  diff = y_pred - y_true\n",
    "  sqdiff = diff * diff * mask\n",
    "  sse = K.sum(K.sum(sqdiff))\n",
    "  n = K.sum(K.sum(mask))\n",
    "  return sse / n"
   ]
  },
  {
   "cell_type": "code",
   "execution_count": 4,
   "metadata": {},
   "outputs": [],
   "source": [
    "def generator(A, M):\n",
    "  while True:\n",
    "    A, M = shuffle(A, M)\n",
    "    for i in range(A.shape[0] // batch_size + 1):\n",
    "      upper = min((i+1)*batch_size, A.shape[0])\n",
    "      a = A[i*batch_size:upper].toarray()\n",
    "      m = M[i*batch_size:upper].toarray()\n",
    "      a = a - mu * m # must keep zeros at zero!\n",
    "      # m2 = (np.random.random(a.shape) > 0.5)\n",
    "      # noisy = a * m2\n",
    "      noisy = a # no noise\n",
    "      yield noisy, a"
   ]
  },
  {
   "cell_type": "code",
   "execution_count": 5,
   "metadata": {},
   "outputs": [],
   "source": [
    "def test_generator(A, M, A_test, M_test):\n",
    "  # assumes A and A_test are in corresponding order\n",
    "  # both of size N x M\n",
    "  while True:\n",
    "    for i in range(A.shape[0] // batch_size + 1):\n",
    "      upper = min((i+1)*batch_size, A.shape[0])\n",
    "      a = A[i*batch_size:upper].toarray()\n",
    "      m = M[i*batch_size:upper].toarray()\n",
    "      at = A_test[i*batch_size:upper].toarray()\n",
    "      mt = M_test[i*batch_size:upper].toarray()\n",
    "      a = a - mu * m\n",
    "      at = at - mu * mt\n",
    "      yield a, at"
   ]
  },
  {
   "cell_type": "code",
   "execution_count": 6,
   "metadata": {},
   "outputs": [],
   "source": [
    "model = Model(i, x)\n",
    "model.compile(\n",
    "  loss=custom_loss,\n",
    "  optimizer=SGD(lr=0.08, momentum=0.9),\n",
    "  # optimizer='adam',\n",
    "  metrics=[custom_loss],\n",
    ")"
   ]
  },
  {
   "cell_type": "code",
   "execution_count": 7,
   "metadata": {
    "scrolled": true
   },
   "outputs": [
    {
     "name": "stdout",
     "output_type": "stream",
     "text": [
      "WARNING:tensorflow:From C:\\Users\\Gustavo\\anaconda3\\lib\\site-packages\\keras\\backend\\tensorflow_backend.py:422: The name tf.global_variables is deprecated. Please use tf.compat.v1.global_variables instead.\n",
      "\n",
      "Epoch 1/20\n",
      "1082/1082 [==============================] - 239s 221ms/step - loss: 0.9881 - custom_loss: 0.7485 - val_loss: 0.8661 - val_custom_loss: 0.7065\n",
      "Epoch 2/20\n",
      "1082/1082 [==============================] - 242s 224ms/step - loss: 0.8321 - custom_loss: 0.6467 - val_loss: 0.8028 - val_custom_loss: 0.6864\n",
      "Epoch 3/20\n",
      "1082/1082 [==============================] - 262s 242ms/step - loss: 0.7687 - custom_loss: 0.6213 - val_loss: 0.7604 - val_custom_loss: 0.6755\n",
      "Epoch 4/20\n",
      "1082/1082 [==============================] - 242s 223ms/step - loss: 0.7284 - custom_loss: 0.6074 - val_loss: 0.7298 - val_custom_loss: 0.6709\n",
      "Epoch 5/20\n",
      "1082/1082 [==============================] - 248s 229ms/step - loss: 0.7006 - custom_loss: 0.5978 - val_loss: 0.7111 - val_custom_loss: 0.6674\n",
      "Epoch 6/20\n",
      "1082/1082 [==============================] - 260s 241ms/step - loss: 0.6816 - custom_loss: 0.5914 - val_loss: 0.7013 - val_custom_loss: 0.6639\n",
      "Epoch 7/20\n",
      "1082/1082 [==============================] - 289s 267ms/step - loss: 0.6684 - custom_loss: 0.5865 - val_loss: 0.6916 - val_custom_loss: 0.6627\n",
      "Epoch 8/20\n",
      "1082/1082 [==============================] - 256s 236ms/step - loss: 0.6585 - custom_loss: 0.5823 - val_loss: 0.6842 - val_custom_loss: 0.6614\n",
      "Epoch 9/20\n",
      "1082/1082 [==============================] - 270s 250ms/step - loss: 0.6509 - custom_loss: 0.5783 - val_loss: 0.6807 - val_custom_loss: 0.6604\n",
      "Epoch 10/20\n",
      "1082/1082 [==============================] - 282s 261ms/step - loss: 0.6461 - custom_loss: 0.5759 - val_loss: 0.6739 - val_custom_loss: 0.6596\n",
      "Epoch 11/20\n",
      "1082/1082 [==============================] - 256s 236ms/step - loss: 0.6421 - custom_loss: 0.5731 - val_loss: 0.6784 - val_custom_loss: 0.6582\n",
      "Epoch 12/20\n",
      "1082/1082 [==============================] - 268s 248ms/step - loss: 0.6396 - custom_loss: 0.5714 - val_loss: 0.6740 - val_custom_loss: 0.6583\n",
      "Epoch 13/20\n",
      "1082/1082 [==============================] - 296s 274ms/step - loss: 0.6374 - custom_loss: 0.5695 - val_loss: 0.6716 - val_custom_loss: 0.6568\n",
      "Epoch 14/20\n",
      "1082/1082 [==============================] - 302s 279ms/step - loss: 0.6361 - custom_loss: 0.5683 - val_loss: 0.6738 - val_custom_loss: 0.6573\n",
      "Epoch 15/20\n",
      "1082/1082 [==============================] - 289s 267ms/step - loss: 0.6343 - custom_loss: 0.5662 - val_loss: 0.6692 - val_custom_loss: 0.6567\n",
      "Epoch 16/20\n",
      "1082/1082 [==============================] - 313s 289ms/step - loss: 0.6341 - custom_loss: 0.5658 - val_loss: 0.6727 - val_custom_loss: 0.6561\n",
      "Epoch 17/20\n",
      "1082/1082 [==============================] - 314s 290ms/step - loss: 0.6329 - custom_loss: 0.5643 - val_loss: 0.6709 - val_custom_loss: 0.6561\n",
      "Epoch 18/20\n",
      "1082/1082 [==============================] - 298s 275ms/step - loss: 0.6320 - custom_loss: 0.5631 - val_loss: 0.6750 - val_custom_loss: 0.6559\n",
      "Epoch 19/20\n",
      "1082/1082 [==============================] - 293s 271ms/step - loss: 0.6315 - custom_loss: 0.5622 - val_loss: 0.6708 - val_custom_loss: 0.6554\n",
      "Epoch 20/20\n",
      "1082/1082 [==============================] - 309s 285ms/step - loss: 0.6312 - custom_loss: 0.5616 - val_loss: 0.6708 - val_custom_loss: 0.6560\n"
     ]
    }
   ],
   "source": [
    "r = model.fit_generator(\n",
    "  generator(A, mask),\n",
    "  validation_data=test_generator(A_copy, mask_copy, A_test_copy, mask_test_copy),\n",
    "  epochs=epochs,\n",
    "  steps_per_epoch=A.shape[0] // batch_size + 1,\n",
    "  validation_steps=A_test.shape[0] // batch_size + 1,\n",
    ")"
   ]
  },
  {
   "cell_type": "code",
   "execution_count": 8,
   "metadata": {},
   "outputs": [
    {
     "name": "stdout",
     "output_type": "stream",
     "text": [
      "dict_keys(['val_loss', 'val_custom_loss', 'loss', 'custom_loss'])\n"
     ]
    }
   ],
   "source": [
    "print(r.history.keys())"
   ]
  },
  {
   "cell_type": "code",
   "execution_count": 9,
   "metadata": {},
   "outputs": [
    {
     "data": {
      "image/png": "[encoded data removed]",
      "text/plain": [
       "<Figure size 432x288 with 1 Axes>"
      ]
     },
     "metadata": {
      "needs_background": "light"
     },
     "output_type": "display_data"
    }
   ],
   "source": [
    "# plot losses\n",
    "plt.plot(r.history['loss'], label=\"train loss\")\n",
    "plt.plot(r.history['val_loss'], label=\"test loss\")\n",
    "plt.legend()\n",
    "plt.show()"
   ]
  },
  {
   "cell_type": "code",
   "execution_count": 11,
   "metadata": {},
   "outputs": [
    {
     "data": {
      "image/png": "[encoded data removed]",
      "text/plain": [
       "<Figure size 432x288 with 1 Axes>"
      ]
     },
     "metadata": {
      "needs_background": "light"
     },
     "output_type": "display_data"
    }
   ],
   "source": [
    "# plot mse\n",
    "plt.plot(r.history['custom_loss'], label=\"train mse\")\n",
    "plt.plot(r.history['val_custom_loss'], label=\"test mse\")\n",
    "plt.legend()\n",
    "plt.show()"
   ]
  }
 ],
 "metadata": {
  "kernelspec": {
   "display_name": "Python 3",
   "language": "python",
   "name": "python3"
  },
  "language_info": {
   "codemirror_mode": {
    "name": "ipython",
    "version": 3
   },
   "file_extension": ".py",
   "mimetype": "text/x-python",
   "name": "python",
   "nbconvert_exporter": "python",
   "pygments_lexer": "ipython3",
   "version": "3.7.6"
  }
 },
 "nbformat": 4,
 "nbformat_minor": 4
}
