{
 "cells": [
  {
   "cell_type": "code",
   "execution_count": 1,
   "metadata": {},
   "outputs": [],
   "source": [
    "# https://udemy.com/recommender-systems\n",
    "# https://deeplearningcourses.com/recommender-systems\n",
    "from __future__ import print_function, division\n",
    "from builtins import range, input\n",
    "from io import StringIO\n",
    "\n",
    "import pandas as pd\n",
    "import numpy as np\n",
    "import time\n",
    "import pickle\n",
    "from collections import Counter\n",
    "import matplotlib.pyplot as plt\n",
    "from sklearn.utils import shuffle"
   ]
  },
  {
   "cell_type": "code",
   "execution_count": 2,
   "metadata": {
    "scrolled": true
   },
   "outputs": [],
   "source": [
    "#carregando dataset\n",
    "df = pd.read_csv(\"large_files/movielens-20m-dataset/rating.csv\")"
   ]
  },
  {
   "cell_type": "code",
   "execution_count": 3,
   "metadata": {},
   "outputs": [
    {
     "data": {
      "text/html": [
       "<div>\n",
       "<style scoped>\n",
       "    .dataframe tbody tr th:only-of-type {\n",
       "        vertical-align: middle;\n",
       "    }\n",
       "\n",
       "    .dataframe tbody tr th {\n",
       "        vertical-align: top;\n",
       "    }\n",
       "\n",
       "    .dataframe thead th {\n",
       "        text-align: right;\n",
       "    }\n",
       "</style>\n",
       "<table border=\"1\" class=\"dataframe\">\n",
       "  <thead>\n",
       "    <tr style=\"text-align: right;\">\n",
       "      <th></th>\n",
       "      <th>userId</th>\n",
       "      <th>movieId</th>\n",
       "      <th>rating</th>\n",
       "      <th>timestamp</th>\n",
       "    </tr>\n",
       "  </thead>\n",
       "  <tbody>\n",
       "    <tr>\n",
       "      <th>0</th>\n",
       "      <td>1</td>\n",
       "      <td>2</td>\n",
       "      <td>3.5</td>\n",
       "      <td>2005-04-02 23:53:47</td>\n",
       "    </tr>\n",
       "    <tr>\n",
       "      <th>1</th>\n",
       "      <td>1</td>\n",
       "      <td>29</td>\n",
       "      <td>3.5</td>\n",
       "      <td>2005-04-02 23:31:16</td>\n",
       "    </tr>\n",
       "    <tr>\n",
       "      <th>2</th>\n",
       "      <td>1</td>\n",
       "      <td>32</td>\n",
       "      <td>3.5</td>\n",
       "      <td>2005-04-02 23:33:39</td>\n",
       "    </tr>\n",
       "    <tr>\n",
       "      <th>3</th>\n",
       "      <td>1</td>\n",
       "      <td>47</td>\n",
       "      <td>3.5</td>\n",
       "      <td>2005-04-02 23:32:07</td>\n",
       "    </tr>\n",
       "    <tr>\n",
       "      <th>4</th>\n",
       "      <td>1</td>\n",
       "      <td>50</td>\n",
       "      <td>3.5</td>\n",
       "      <td>2005-04-02 23:29:40</td>\n",
       "    </tr>\n",
       "    <tr>\n",
       "      <th>5</th>\n",
       "      <td>1</td>\n",
       "      <td>112</td>\n",
       "      <td>3.5</td>\n",
       "      <td>2004-09-10 03:09:00</td>\n",
       "    </tr>\n",
       "    <tr>\n",
       "      <th>6</th>\n",
       "      <td>1</td>\n",
       "      <td>151</td>\n",
       "      <td>4.0</td>\n",
       "      <td>2004-09-10 03:08:54</td>\n",
       "    </tr>\n",
       "    <tr>\n",
       "      <th>7</th>\n",
       "      <td>1</td>\n",
       "      <td>223</td>\n",
       "      <td>4.0</td>\n",
       "      <td>2005-04-02 23:46:13</td>\n",
       "    </tr>\n",
       "    <tr>\n",
       "      <th>8</th>\n",
       "      <td>1</td>\n",
       "      <td>253</td>\n",
       "      <td>4.0</td>\n",
       "      <td>2005-04-02 23:35:40</td>\n",
       "    </tr>\n",
       "    <tr>\n",
       "      <th>9</th>\n",
       "      <td>1</td>\n",
       "      <td>260</td>\n",
       "      <td>4.0</td>\n",
       "      <td>2005-04-02 23:33:46</td>\n",
       "    </tr>\n",
       "  </tbody>\n",
       "</table>\n",
       "</div>"
      ],
      "text/plain": [
       "   userId  movieId  rating            timestamp\n",
       "0       1        2     3.5  2005-04-02 23:53:47\n",
       "1       1       29     3.5  2005-04-02 23:31:16\n",
       "2       1       32     3.5  2005-04-02 23:33:39\n",
       "3       1       47     3.5  2005-04-02 23:32:07\n",
       "4       1       50     3.5  2005-04-02 23:29:40\n",
       "5       1      112     3.5  2004-09-10 03:09:00\n",
       "6       1      151     4.0  2004-09-10 03:08:54\n",
       "7       1      223     4.0  2005-04-02 23:46:13\n",
       "8       1      253     4.0  2005-04-02 23:35:40\n",
       "9       1      260     4.0  2005-04-02 23:33:46"
      ]
     },
     "execution_count": 3,
     "metadata": {},
     "output_type": "execute_result"
    }
   ],
   "source": [
    "df.head(10)"
   ]
  },
  {
   "cell_type": "code",
   "execution_count": 4,
   "metadata": {},
   "outputs": [
    {
     "name": "stdout",
     "output_type": "stream",
     "text": [
      "tamanho do dataset:  (20000263, 4) \n",
      "quantidade de usuários :  138493 \n",
      "quantidade de filmes :  26744\n"
     ]
    }
   ],
   "source": [
    "print(\"tamanho do dataset: \", df.shape, \"\\nquantidade de usuários : \", df[\"userId\"].unique().shape[0], \"\\nquantidade de filmes : \", df[\"movieId\"].unique().shape[0])"
   ]
  },
  {
   "cell_type": "code",
   "execution_count": 5,
   "metadata": {},
   "outputs": [],
   "source": [
    "# faz ids comecarem no 0\n",
    "df[\"userId\"] = df[\"userId\"]-1"
   ]
  },
  {
   "cell_type": "code",
   "execution_count": 6,
   "metadata": {
    "scrolled": true
   },
   "outputs": [
    {
     "name": "stdout",
     "output_type": "stream",
     "text": [
      "maior id de filme:  131262 \n",
      "quantidade de filmes :  26744\n"
     ]
    }
   ],
   "source": [
    "# nem todos os ids de filmes aparecem no dataset\n",
    "print(\"maior id de filme: \", max(df[\"movieId\"]), \"\\nquantidade de filmes : \", df[\"movieId\"].unique().shape[0])"
   ]
  },
  {
   "cell_type": "code",
   "execution_count": 7,
   "metadata": {},
   "outputs": [
    {
     "name": "stdout",
     "output_type": "stream",
     "text": [
      "tempo de execução: 5.450014364719391  minutos\n"
     ]
    }
   ],
   "source": [
    "inicio = time.time()\n",
    "# colocando o id dos filmes sequenciais\n",
    "unique_movie_ids = set(df.movieId.values)\n",
    "movie2idx = {}\n",
    "count = 0\n",
    "for movie_id in unique_movie_ids:\n",
    "    movie2idx[movie_id] = count\n",
    "    count +=1\n",
    "df[\"movie_idx\"] = df.apply(lambda row: movie2idx[row.movieId], axis = 1)\n",
    "fim = time.time()\n",
    "print(\"tempo de execução:\",(fim - inicio)/60,\" minutos\")"
   ]
  },
  {
   "cell_type": "code",
   "execution_count": 8,
   "metadata": {},
   "outputs": [],
   "source": [
    "# excluindo coluna indeseja e salvando este dataset\n",
    "df = df.drop(columns=['timestamp'])\n",
    "df.to_csv('large_files/movielens-20m-dataset/edited_rating.csv', index=False)"
   ]
  },
  {
   "cell_type": "code",
   "execution_count": 9,
   "metadata": {},
   "outputs": [],
   "source": [
    "# selecionando subset do dataset, pelos usuarios e filmes mais comuns\n",
    "\n",
    "# criando contador de ids\n",
    "user_ids_count = Counter(df.userId)\n",
    "movie_ids_count = Counter(df.movie_idx)\n",
    "n = 10000\n",
    "m = 2000\n",
    "\n",
    "# buscando os usuarios e filmes mais comumns\n",
    "user_ids = [u for u, c in user_ids_count.most_common(n)]#para cada id:valor do counter pega apenas o id\n",
    "movie_ids = [m for m, c in movie_ids_count.most_common(m)]#para cada id:valor do counter pega apenas o id\n",
    "\n",
    "# criando dataframe de usuários e filmes mais comuns\n",
    "df_small = df[df.userId.isin(user_ids) & df.movie_idx.isin(movie_ids)].copy()"
   ]
  },
  {
   "cell_type": "code",
   "execution_count": 10,
   "metadata": {},
   "outputs": [
    {
     "name": "stdout",
     "output_type": "stream",
     "text": [
      "i: 10000\n",
      "j: 2000\n",
      "max user id: 9999\n",
      "max movie id: 1999\n",
      "small dataframe size: 5392025\n"
     ]
    }
   ],
   "source": [
    "# refazendo sequencia de user id e id do filme \n",
    "# para os ids e filmes selecionados\n",
    "\n",
    "# criando mapa de userid e movieId\n",
    "new_user_id_map = {}\n",
    "i = 0\n",
    "for old in user_ids:\n",
    "  new_user_id_map[old] = i\n",
    "  i += 1\n",
    "print(\"i:\", i)\n",
    "\n",
    "new_movie_id_map = {}\n",
    "j = 0\n",
    "for old in movie_ids:\n",
    "  new_movie_id_map[old] = j\n",
    "  j += 1\n",
    "print(\"j:\", j)\n",
    "\n",
    "# Aplicando mapa dos novos ids\n",
    "df_small.loc[:, 'userId'] = df_small.apply(lambda row: new_user_id_map[row.userId], axis=1)\n",
    "df_small.loc[:, 'movie_idx'] = df_small.apply(lambda row: new_movie_id_map[row.movie_idx], axis=1)\n",
    "df_small.drop(columns=['userId', 'movie_idx'])\n",
    "df_small.rename(index=str, columns={'new_userId': 'userId', 'new_movie_idx': 'movie_idx'})\n",
    "print(\"max user id:\", df_small.userId.max())\n",
    "print(\"max movie id:\", df_small.movie_idx.max())\n",
    "\n",
    "print(\"small dataframe size:\", len(df_small))"
   ]
  },
  {
   "cell_type": "code",
   "execution_count": 11,
   "metadata": {},
   "outputs": [
    {
     "name": "stdout",
     "output_type": "stream",
     "text": [
      "small dataframe size: 5392025\n"
     ]
    }
   ],
   "source": [
    "print(\"small dataframe size:\", len(df_small))\n",
    "df_small.to_csv('large_files/movielens-20m-dataset/small_rating.csv', index=False)"
   ]
  },
  {
   "cell_type": "code",
   "execution_count": 12,
   "metadata": {},
   "outputs": [],
   "source": [
    "df = df_small\n",
    "df_small = 0\n",
    "\n",
    "# dividindo base de treino e teste\n",
    "df = shuffle(df)\n",
    "cutoff = int(0.8*len(df))\n",
    "df_train = df.iloc[:cutoff]\n",
    "df_test = df.iloc[cutoff:]"
   ]
  },
  {
   "cell_type": "code",
   "execution_count": 13,
   "metadata": {
    "scrolled": true
   },
   "outputs": [
    {
     "name": "stdout",
     "output_type": "stream",
     "text": [
      "processed: 0.023\n",
      "processed: 0.046\n",
      "processed: 0.070\n",
      "processed: 0.093\n",
      "processed: 0.116\n",
      "processed: 0.139\n",
      "processed: 0.162\n",
      "processed: 0.185\n",
      "processed: 0.209\n",
      "processed: 0.232\n",
      "processed: 0.255\n",
      "processed: 0.278\n",
      "processed: 0.301\n",
      "processed: 0.325\n",
      "processed: 0.348\n",
      "processed: 0.371\n",
      "processed: 0.394\n",
      "processed: 0.417\n",
      "processed: 0.440\n",
      "processed: 0.464\n",
      "processed: 0.487\n",
      "processed: 0.510\n",
      "processed: 0.533\n",
      "processed: 0.556\n",
      "processed: 0.580\n",
      "processed: 0.603\n",
      "processed: 0.626\n",
      "processed: 0.649\n",
      "processed: 0.672\n",
      "processed: 0.695\n",
      "processed: 0.719\n",
      "processed: 0.742\n",
      "processed: 0.765\n",
      "processed: 0.788\n",
      "processed: 0.811\n",
      "processed: 0.835\n",
      "processed: 0.858\n",
      "processed: 0.881\n",
      "processed: 0.904\n",
      "processed: 0.927\n",
      "processed: 0.950\n",
      "processed: 0.974\n",
      "processed: 0.997\n",
      "Calling: update_usermovie2rating_test\n",
      "processed: 0.093\n",
      "processed: 0.185\n",
      "processed: 0.278\n",
      "processed: 0.371\n",
      "processed: 0.464\n",
      "processed: 0.556\n",
      "processed: 0.649\n",
      "processed: 0.742\n",
      "processed: 0.835\n",
      "processed: 0.927\n"
     ]
    }
   ],
   "source": [
    "# criando dicionario para dizer qual usuário deu nota a qual filme\n",
    "user2movie = {}\n",
    "# criando dicionario para dizer qual filme foi avaliado por qual usuário\n",
    "movie2user = {}\n",
    "# criando dicionario usuario+filme vs. nota\n",
    "usermovie2rating = {}\n",
    "\n",
    "# preenchendo dicionario da base de treino\n",
    "def update_user2movie_and_movie2user(row):\n",
    "  global count\n",
    "  count += 1\n",
    "  if count % 100000 == 0:\n",
    "    print(\"processed: %.3f\" % (float(count)/cutoff))\n",
    "\n",
    "  i = int(row.userId)\n",
    "  j = int(row.movie_idx)\n",
    "  if i not in user2movie:# se ainda nao existe aquele usuário no dicionario criar usuário e respectivo id de filme\n",
    "    user2movie[i] = [j]\n",
    "  else:# caso ja exista o usuário adicionar o id do filme para este\n",
    "    user2movie[i].append(j)\n",
    "\n",
    "  if j not in movie2user:# se ainda nao existe aquele filme no dicionario criar filme e respectivo id de usuário\n",
    "    movie2user[j] = [i]\n",
    "  else:# caso ja exista o usuario adicionar o id do filme para este\n",
    "    movie2user[j].append(i)\n",
    "\n",
    "  usermovie2rating[(i,j)] = row.rating #dicionario onde a chqave é id de usuários + id de filme e o valor é a respectiva nota\n",
    "df_train.apply(update_user2movie_and_movie2user, axis=1)#aplicando funcao para todo o df\n",
    "\n",
    "# preenchendo dicionario da base de teste(somente o usuario+filme vs. nota)\n",
    "usermovie2rating_test = {}\n",
    "print(\"Calling: update_usermovie2rating_test\")\n",
    "count = 0\n",
    "def update_usermovie2rating_test(row):\n",
    "  global count\n",
    "  count += 1\n",
    "  if count % 100000 == 0:\n",
    "    print(\"processed: %.3f\" % (float(count)/len(df_test)))\n",
    "\n",
    "  i = int(row.userId)\n",
    "  j = int(row.movie_idx)\n",
    "  usermovie2rating_test[(i,j)] = row.rating\n",
    "df_test.apply(update_usermovie2rating_test, axis=1)\n",
    "\n",
    "# note: these are not really JSONs\n",
    "with open('user2movie.json', 'wb') as f:\n",
    "  pickle.dump(user2movie, f)\n",
    "\n",
    "with open('movie2user.json', 'wb') as f:\n",
    "  pickle.dump(movie2user, f)\n",
    "\n",
    "with open('usermovie2rating.json', 'wb') as f:\n",
    "  pickle.dump(usermovie2rating, f)\n",
    "\n",
    "with open('usermovie2rating_test.json', 'wb') as f:\n",
    "  pickle.dump(usermovie2rating_test, f)\n"
   ]
  }
 ],
 "metadata": {
  "kernelspec": {
   "display_name": "Python 3",
   "language": "python",
   "name": "python3"
  },
  "language_info": {
   "codemirror_mode": {
    "name": "ipython",
    "version": 3
   },
   "file_extension": ".py",
   "mimetype": "text/x-python",
   "name": "python",
   "nbconvert_exporter": "python",
   "pygments_lexer": "ipython3",
   "version": "3.7.6"
  }
 },
 "nbformat": 4,
 "nbformat_minor": 4
}
