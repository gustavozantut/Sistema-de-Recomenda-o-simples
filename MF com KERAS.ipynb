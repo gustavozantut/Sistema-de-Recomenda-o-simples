{
 "cells": [
  {
   "cell_type": "code",
   "execution_count": 1,
   "metadata": {
    "scrolled": false
   },
   "outputs": [
    {
     "name": "stderr",
     "output_type": "stream",
     "text": [
      "Using TensorFlow backend.\n",
      "C:\\Users\\Gustavo\\anaconda3\\lib\\site-packages\\tensorflow\\python\\framework\\dtypes.py:516: FutureWarning: Passing (type, 1) or '1type' as a synonym of type is deprecated; in a future version of numpy, it will be understood as (type, (1,)) / '(1,)type'.\n",
      "  _np_qint8 = np.dtype([(\"qint8\", np.int8, 1)])\n",
      "C:\\Users\\Gustavo\\anaconda3\\lib\\site-packages\\tensorflow\\python\\framework\\dtypes.py:517: FutureWarning: Passing (type, 1) or '1type' as a synonym of type is deprecated; in a future version of numpy, it will be understood as (type, (1,)) / '(1,)type'.\n",
      "  _np_quint8 = np.dtype([(\"quint8\", np.uint8, 1)])\n",
      "C:\\Users\\Gustavo\\anaconda3\\lib\\site-packages\\tensorflow\\python\\framework\\dtypes.py:518: FutureWarning: Passing (type, 1) or '1type' as a synonym of type is deprecated; in a future version of numpy, it will be understood as (type, (1,)) / '(1,)type'.\n",
      "  _np_qint16 = np.dtype([(\"qint16\", np.int16, 1)])\n",
      "C:\\Users\\Gustavo\\anaconda3\\lib\\site-packages\\tensorflow\\python\\framework\\dtypes.py:519: FutureWarning: Passing (type, 1) or '1type' as a synonym of type is deprecated; in a future version of numpy, it will be understood as (type, (1,)) / '(1,)type'.\n",
      "  _np_quint16 = np.dtype([(\"quint16\", np.uint16, 1)])\n",
      "C:\\Users\\Gustavo\\anaconda3\\lib\\site-packages\\tensorflow\\python\\framework\\dtypes.py:520: FutureWarning: Passing (type, 1) or '1type' as a synonym of type is deprecated; in a future version of numpy, it will be understood as (type, (1,)) / '(1,)type'.\n",
      "  _np_qint32 = np.dtype([(\"qint32\", np.int32, 1)])\n",
      "C:\\Users\\Gustavo\\anaconda3\\lib\\site-packages\\tensorflow\\python\\framework\\dtypes.py:525: FutureWarning: Passing (type, 1) or '1type' as a synonym of type is deprecated; in a future version of numpy, it will be understood as (type, (1,)) / '(1,)type'.\n",
      "  np_resource = np.dtype([(\"resource\", np.ubyte, 1)])\n",
      "C:\\Users\\Gustavo\\anaconda3\\lib\\site-packages\\tensorboard\\compat\\tensorflow_stub\\dtypes.py:541: FutureWarning: Passing (type, 1) or '1type' as a synonym of type is deprecated; in a future version of numpy, it will be understood as (type, (1,)) / '(1,)type'.\n",
      "  _np_qint8 = np.dtype([(\"qint8\", np.int8, 1)])\n",
      "C:\\Users\\Gustavo\\anaconda3\\lib\\site-packages\\tensorboard\\compat\\tensorflow_stub\\dtypes.py:542: FutureWarning: Passing (type, 1) or '1type' as a synonym of type is deprecated; in a future version of numpy, it will be understood as (type, (1,)) / '(1,)type'.\n",
      "  _np_quint8 = np.dtype([(\"quint8\", np.uint8, 1)])\n",
      "C:\\Users\\Gustavo\\anaconda3\\lib\\site-packages\\tensorboard\\compat\\tensorflow_stub\\dtypes.py:543: FutureWarning: Passing (type, 1) or '1type' as a synonym of type is deprecated; in a future version of numpy, it will be understood as (type, (1,)) / '(1,)type'.\n",
      "  _np_qint16 = np.dtype([(\"qint16\", np.int16, 1)])\n",
      "C:\\Users\\Gustavo\\anaconda3\\lib\\site-packages\\tensorboard\\compat\\tensorflow_stub\\dtypes.py:544: FutureWarning: Passing (type, 1) or '1type' as a synonym of type is deprecated; in a future version of numpy, it will be understood as (type, (1,)) / '(1,)type'.\n",
      "  _np_quint16 = np.dtype([(\"quint16\", np.uint16, 1)])\n",
      "C:\\Users\\Gustavo\\anaconda3\\lib\\site-packages\\tensorboard\\compat\\tensorflow_stub\\dtypes.py:545: FutureWarning: Passing (type, 1) or '1type' as a synonym of type is deprecated; in a future version of numpy, it will be understood as (type, (1,)) / '(1,)type'.\n",
      "  _np_qint32 = np.dtype([(\"qint32\", np.int32, 1)])\n",
      "C:\\Users\\Gustavo\\anaconda3\\lib\\site-packages\\tensorboard\\compat\\tensorflow_stub\\dtypes.py:550: FutureWarning: Passing (type, 1) or '1type' as a synonym of type is deprecated; in a future version of numpy, it will be understood as (type, (1,)) / '(1,)type'.\n",
      "  np_resource = np.dtype([(\"resource\", np.ubyte, 1)])\n"
     ]
    }
   ],
   "source": [
    "# https://udemy.com/recommender-systems\n",
    "# https://deeplearningcourses.com/recommender-systems\n",
    "from __future__ import print_function, division\n",
    "from builtins import range, input\n",
    "\n",
    "import pickle\n",
    "import numpy as np\n",
    "import pandas as pd\n",
    "import matplotlib.pyplot as plt\n",
    "from sklearn.utils import shuffle\n",
    "\n",
    "from keras.models import Model\n",
    "from keras.layers import Input, Embedding, Dot, Add, Flatten\n",
    "from keras.regularizers import l2\n",
    "from keras.optimizers import SGD, Adam\n",
    "\n",
    "# load in the data\n",
    "df = pd.read_csv('large_files/movielens-20m-dataset/edited_rating.csv')\n",
    "\n",
    "N = df.userId.max() + 1 # number of users\n",
    "M = df.movie_idx.max() + 1 # number of movies\n",
    "\n",
    "# split into train and test\n",
    "df = shuffle(df)\n",
    "cutoff = int(0.8*len(df))\n",
    "df_train = df.iloc[:cutoff]\n",
    "df_test = df.iloc[cutoff:]\n",
    "#nota: os warnings exibidos abaixo são provenientes do uso do tensorflow com a gpu e versoes do numpy suportadas"
   ]
  },
  {
   "cell_type": "code",
   "execution_count": 11,
   "metadata": {},
   "outputs": [],
   "source": [
    "# ininicializando variaveis\n",
    "K = 10 # latent dimensionality\n",
    "mu = df_train.rating.mean()\n",
    "epochs = 15\n",
    "reg = 0.1# regularization penalty\n",
    "\n",
    "# keras model\n",
    "u = Input(shape=(1,))\n",
    "m = Input(shape=(1,))\n",
    "u_embedding = Embedding(N, K, embeddings_regularizer=l2(reg))(u) # embedding de usuario dim(N, 1, K)\n",
    "m_embedding = Embedding(M, K, embeddings_regularizer=l2(reg))(m) # embedding de filme dim(N, 1, K)\n",
    "\n",
    "#submodelo para prova de conceito das dimensoes das matrizes de saida\n",
    "#usando embedding de u e m\n",
    "\n",
    "# subsubmodel = Model([u, m], [u_embedding, m_embedding])\n",
    "# user_ids = df_train.userId.values[0:5]\n",
    "# movie_ids = df_train.movie_idx.values[0:5]\n",
    "# print(\"user_ids.shape\", user_ids.shape)\n",
    "# p = subsubmodel.predict([user_ids, movie_ids])\n",
    "# print(\"p[0].shape:\", p[0].shape)\n",
    "# print(\"p[1].shape:\", p[1].shape)\n",
    "\n",
    "#calculando bias de usuario e item\n",
    "u_bias = Embedding(N, 1, embeddings_regularizer=l2(reg))(u) # embedding de bias usuario dim(N, 1, 1)\n",
    "m_bias = Embedding(M, 1, embeddings_regularizer=l2(reg))(m) # embedding de bias filme dim(N, 1, 1)\n",
    "x = Dot(axes=2)([u_embedding, m_embedding]) # dim(N, 1, 1)\n",
    "\n",
    "#submodelo para prova de conceito das dimensoes das matrizes de saida\n",
    "#usando o produto do embedding de u e m\n",
    "\n",
    "# submodel = Model([u, m], x)\n",
    "# user_ids = df_train.userId.values[0:5]\n",
    "# movie_ids = df_train.movie_idx.values[0:5]\n",
    "# p = submodel.predict([user_ids, movie_ids])\n",
    "# print(\"p.shape:\", p.shape)\n",
    "\n",
    "#inserindo bias de usuario e item no produto das matrizes\n",
    "x = Add()([x, u_bias, m_bias])\n",
    "x = Flatten()(x) # (N, 1)"
   ]
  },
  {
   "cell_type": "code",
   "execution_count": 13,
   "metadata": {},
   "outputs": [
    {
     "name": "stdout",
     "output_type": "stream",
     "text": [
      "Train on 16000210 samples, validate on 4000053 samples\n",
      "Epoch 1/15\n",
      "16000210/16000210 [==============================] - 868s 54us/step - loss: 1.1286 - mse: 1.1038 - val_loss: 1.1192 - val_mse: 1.1041\n",
      "Epoch 2/15\n",
      "16000210/16000210 [==============================] - 827s 52us/step - loss: 1.1190 - mse: 1.1038 - val_loss: 1.1189 - val_mse: 1.1039\n",
      "Epoch 3/15\n",
      "16000210/16000210 [==============================] - 806s 50us/step - loss: 1.1190 - mse: 1.1038 - val_loss: 1.1198 - val_mse: 1.1045\n",
      "Epoch 4/15\n",
      "16000210/16000210 [==============================] - 806s 50us/step - loss: 1.1190 - mse: 1.1038 - val_loss: 1.1198 - val_mse: 1.1037\n",
      "Epoch 5/15\n",
      "16000210/16000210 [==============================] - 808s 50us/step - loss: 1.1190 - mse: 1.1038 - val_loss: 1.1186 - val_mse: 1.1045\n",
      "Epoch 6/15\n",
      "16000210/16000210 [==============================] - 815s 51us/step - loss: 1.1190 - mse: 1.1038 - val_loss: 1.1189 - val_mse: 1.1041\n",
      "Epoch 7/15\n",
      "16000210/16000210 [==============================] - 807s 50us/step - loss: 1.1190 - mse: 1.1038 - val_loss: 1.1194 - val_mse: 1.1041\n",
      "Epoch 8/15\n",
      "16000210/16000210 [==============================] - 808s 51us/step - loss: 1.1190 - mse: 1.1038 - val_loss: 1.1197 - val_mse: 1.1038\n",
      "Epoch 9/15\n",
      "16000210/16000210 [==============================] - 802s 50us/step - loss: 1.1190 - mse: 1.1038 - val_loss: 1.1194 - val_mse: 1.1045\n",
      "Epoch 10/15\n",
      "16000210/16000210 [==============================] - 810s 51us/step - loss: 1.1190 - mse: 1.1038 - val_loss: 1.1193 - val_mse: 1.1044\n",
      "Epoch 11/15\n",
      "16000210/16000210 [==============================] - 818s 51us/step - loss: 1.1190 - mse: 1.1038 - val_loss: 1.1190 - val_mse: 1.1040\n",
      "Epoch 12/15\n",
      "16000210/16000210 [==============================] - 802s 50us/step - loss: 1.1190 - mse: 1.1038 - val_loss: 1.1186 - val_mse: 1.1041\n",
      "Epoch 13/15\n",
      "16000210/16000210 [==============================] - 797s 50us/step - loss: 1.1190 - mse: 1.1038 - val_loss: 1.1192 - val_mse: 1.1042\n",
      "Epoch 14/15\n",
      "16000210/16000210 [==============================] - 800s 50us/step - loss: 1.1190 - mse: 1.1038 - val_loss: 1.1191 - val_mse: 1.1040\n",
      "Epoch 15/15\n",
      "16000210/16000210 [==============================] - 817s 51us/step - loss: 1.1190 - mse: 1.1038 - val_loss: 1.1193 - val_mse: 1.1036\n"
     ]
    }
   ],
   "source": [
    "# definindo modelo e metrica de avaliacao(loss e mse, mse é diferente de loss quando usamos regularizacao)\n",
    "model = Model(inputs=[u, m], outputs=x)\n",
    "model.compile(\n",
    "  loss='mse',\n",
    "  # optimizer='adam',\n",
    "  # optimizer=Adam(lr=0.01),\n",
    "  optimizer=SGD(lr=0.08, momentum=0.9),\n",
    "  metrics=['mse'],\n",
    ")\n",
    "# treinando o modelo e visualizando os resultados\n",
    "r = model.fit(\n",
    "  x=[df_train.userId.values, df_train.movie_idx.values],\n",
    "  y=df_train.rating.values - mu,\n",
    "  epochs=epochs,\n",
    "  batch_size=128,\n",
    "  validation_data=(\n",
    "    [df_test.userId.values, df_test.movie_idx.values],\n",
    "    df_test.rating.values - mu\n",
    "  )\n",
    ")"
   ]
  },
  {
   "cell_type": "code",
   "execution_count": null,
   "metadata": {},
   "outputs": [],
   "source": []
  },
  {
   "cell_type": "code",
   "execution_count": 4,
   "metadata": {},
   "outputs": [
    {
     "data": {
      "image/png": "[encoded data removed]",
      "text/plain": [
       "<Figure size 432x288 with 1 Axes>"
      ]
     },
     "metadata": {
      "needs_background": "light"
     },
     "output_type": "display_data"
    }
   ],
   "source": [
    "# plot losses\n",
    "plt.plot(r.history['loss'], label=\"train loss\")\n",
    "plt.plot(r.history['val_loss'], label=\"test loss\")\n",
    "plt.legend()\n",
    "plt.show()"
   ]
  },
  {
   "cell_type": "code",
   "execution_count": 5,
   "metadata": {},
   "outputs": [],
   "source": [
    "#Plotamos o erro quadratico medio caso utilizemos regularizacao\n",
    "#plot mse\n",
    "#plt.plot(r.history['mse'], label=\"train mse\")\n",
    "#plt.plot(r.history['val_mse'], label=\"test mse\")\n",
    "#plt.legend()\n",
    "#plt.show()"
   ]
  }
 ],
 "metadata": {
  "kernelspec": {
   "display_name": "Python 3",
   "language": "python",
   "name": "python3"
  },
  "language_info": {
   "codemirror_mode": {
    "name": "ipython",
    "version": 3
   },
   "file_extension": ".py",
   "mimetype": "text/x-python",
   "name": "python",
   "nbconvert_exporter": "python",
   "pygments_lexer": "ipython3",
   "version": "3.7.6"
  }
 },
 "nbformat": 4,
 "nbformat_minor": 4
}
