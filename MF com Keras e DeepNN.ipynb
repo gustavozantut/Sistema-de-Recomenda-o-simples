{
 "cells": [
  {
   "cell_type": "code",
   "execution_count": 1,
   "metadata": {},
   "outputs": [
    {
     "name": "stderr",
     "output_type": "stream",
     "text": [
      "Using TensorFlow backend.\n",
      "C:\\Users\\Gustavo\\anaconda3\\lib\\site-packages\\tensorflow\\python\\framework\\dtypes.py:516: FutureWarning: Passing (type, 1) or '1type' as a synonym of type is deprecated; in a future version of numpy, it will be understood as (type, (1,)) / '(1,)type'.\n",
      "  _np_qint8 = np.dtype([(\"qint8\", np.int8, 1)])\n",
      "C:\\Users\\Gustavo\\anaconda3\\lib\\site-packages\\tensorflow\\python\\framework\\dtypes.py:517: FutureWarning: Passing (type, 1) or '1type' as a synonym of type is deprecated; in a future version of numpy, it will be understood as (type, (1,)) / '(1,)type'.\n",
      "  _np_quint8 = np.dtype([(\"quint8\", np.uint8, 1)])\n",
      "C:\\Users\\Gustavo\\anaconda3\\lib\\site-packages\\tensorflow\\python\\framework\\dtypes.py:518: FutureWarning: Passing (type, 1) or '1type' as a synonym of type is deprecated; in a future version of numpy, it will be understood as (type, (1,)) / '(1,)type'.\n",
      "  _np_qint16 = np.dtype([(\"qint16\", np.int16, 1)])\n",
      "C:\\Users\\Gustavo\\anaconda3\\lib\\site-packages\\tensorflow\\python\\framework\\dtypes.py:519: FutureWarning: Passing (type, 1) or '1type' as a synonym of type is deprecated; in a future version of numpy, it will be understood as (type, (1,)) / '(1,)type'.\n",
      "  _np_quint16 = np.dtype([(\"quint16\", np.uint16, 1)])\n",
      "C:\\Users\\Gustavo\\anaconda3\\lib\\site-packages\\tensorflow\\python\\framework\\dtypes.py:520: FutureWarning: Passing (type, 1) or '1type' as a synonym of type is deprecated; in a future version of numpy, it will be understood as (type, (1,)) / '(1,)type'.\n",
      "  _np_qint32 = np.dtype([(\"qint32\", np.int32, 1)])\n",
      "C:\\Users\\Gustavo\\anaconda3\\lib\\site-packages\\tensorflow\\python\\framework\\dtypes.py:525: FutureWarning: Passing (type, 1) or '1type' as a synonym of type is deprecated; in a future version of numpy, it will be understood as (type, (1,)) / '(1,)type'.\n",
      "  np_resource = np.dtype([(\"resource\", np.ubyte, 1)])\n",
      "C:\\Users\\Gustavo\\anaconda3\\lib\\site-packages\\tensorboard\\compat\\tensorflow_stub\\dtypes.py:541: FutureWarning: Passing (type, 1) or '1type' as a synonym of type is deprecated; in a future version of numpy, it will be understood as (type, (1,)) / '(1,)type'.\n",
      "  _np_qint8 = np.dtype([(\"qint8\", np.int8, 1)])\n",
      "C:\\Users\\Gustavo\\anaconda3\\lib\\site-packages\\tensorboard\\compat\\tensorflow_stub\\dtypes.py:542: FutureWarning: Passing (type, 1) or '1type' as a synonym of type is deprecated; in a future version of numpy, it will be understood as (type, (1,)) / '(1,)type'.\n",
      "  _np_quint8 = np.dtype([(\"quint8\", np.uint8, 1)])\n",
      "C:\\Users\\Gustavo\\anaconda3\\lib\\site-packages\\tensorboard\\compat\\tensorflow_stub\\dtypes.py:543: FutureWarning: Passing (type, 1) or '1type' as a synonym of type is deprecated; in a future version of numpy, it will be understood as (type, (1,)) / '(1,)type'.\n",
      "  _np_qint16 = np.dtype([(\"qint16\", np.int16, 1)])\n",
      "C:\\Users\\Gustavo\\anaconda3\\lib\\site-packages\\tensorboard\\compat\\tensorflow_stub\\dtypes.py:544: FutureWarning: Passing (type, 1) or '1type' as a synonym of type is deprecated; in a future version of numpy, it will be understood as (type, (1,)) / '(1,)type'.\n",
      "  _np_quint16 = np.dtype([(\"quint16\", np.uint16, 1)])\n",
      "C:\\Users\\Gustavo\\anaconda3\\lib\\site-packages\\tensorboard\\compat\\tensorflow_stub\\dtypes.py:545: FutureWarning: Passing (type, 1) or '1type' as a synonym of type is deprecated; in a future version of numpy, it will be understood as (type, (1,)) / '(1,)type'.\n",
      "  _np_qint32 = np.dtype([(\"qint32\", np.int32, 1)])\n",
      "C:\\Users\\Gustavo\\anaconda3\\lib\\site-packages\\tensorboard\\compat\\tensorflow_stub\\dtypes.py:550: FutureWarning: Passing (type, 1) or '1type' as a synonym of type is deprecated; in a future version of numpy, it will be understood as (type, (1,)) / '(1,)type'.\n",
      "  np_resource = np.dtype([(\"resource\", np.ubyte, 1)])\n"
     ]
    }
   ],
   "source": [
    "# https://udemy.com/recommender-systems\n",
    "# https://deeplearningcourses.com/recommender-systems\n",
    "from __future__ import print_function, division\n",
    "from builtins import range, input\n",
    "\n",
    "\n",
    "import pickle\n",
    "import numpy as np\n",
    "import pandas as pd\n",
    "import matplotlib.pyplot as plt\n",
    "from sklearn.utils import shuffle\n",
    "\n",
    "from keras.models import Model\n",
    "from keras.layers import Input, Embedding, Flatten, Dense, Concatenate\n",
    "from keras.layers import Dropout, BatchNormalization, Activation\n",
    "from keras.regularizers import l2\n",
    "from keras.optimizers import SGD, Adam\n",
    "\n",
    "# load in the data\n",
    "df = pd.read_csv('large_files/movielens-20m-dataset/edited_rating.csv')\n",
    "\n",
    "N = df.userId.max() + 1 # number of users\n",
    "M = df.movie_idx.max() + 1 # number of movies\n",
    "\n",
    "# split into train and test\n",
    "df = shuffle(df)\n",
    "cutoff = int(0.8*len(df))\n",
    "df_train = df.iloc[:cutoff]\n",
    "df_test = df.iloc[cutoff:]\n",
    "\n",
    "# initialize variables\n",
    "K = 10 # latent dimensionality\n",
    "mu = df_train.rating.mean()\n",
    "epochs = 15\n",
    "# reg = 0.0001 # regularization penalty\n",
    "#nota: os warnings exibidos abaixo são provenientes do uso do tensorflow com a gpu e versoes do numpy suportadas"
   ]
  },
  {
   "cell_type": "code",
   "execution_count": 2,
   "metadata": {},
   "outputs": [],
   "source": [
    "# keras model\n",
    "u = Input(shape=(1,))\n",
    "m = Input(shape=(1,))\n",
    "u_embedding = Embedding(N, K)(u) # (N, 1, K)\n",
    "m_embedding = Embedding(M, K)(m) # (N, 1, K)\n",
    "u_embedding = Flatten()(u_embedding) # (N, K)\n",
    "m_embedding = Flatten()(m_embedding) # (N, K)\n",
    "x = Concatenate()([u_embedding, m_embedding]) # (N, 2K)\n"
   ]
  },
  {
   "cell_type": "code",
   "execution_count": 3,
   "metadata": {},
   "outputs": [],
   "source": [
    "# the neural network\n",
    "\n",
    "# hyperparametros das camadas da NN - testanto algumas variações nos notebooks \"MF com Keras e DeepNN X\"\n",
    "x = Dense(400)(x) #densidade de neunorion da camada implicita\n",
    "# x = BatchNormalization()(x) #normalizacao de batch nessa camada\n",
    "x = Activation('relu')(x)# funcao de ativacao dessa camada\n",
    "# x = Dropout(0.5)(x)# setar dropout de neuronios da camada \n",
    "# x = Dense(100)(x)#outra camada implicita\n",
    "# x = BatchNormalization()(x)\n",
    "# x = Activation('relu')(x)\n",
    "x = Dense(1)(x)# camada de saida"
   ]
  },
  {
   "cell_type": "code",
   "execution_count": 4,
   "metadata": {},
   "outputs": [
    {
     "name": "stdout",
     "output_type": "stream",
     "text": [
      "WARNING:tensorflow:From C:\\Users\\Gustavo\\anaconda3\\lib\\site-packages\\keras\\backend\\tensorflow_backend.py:422: The name tf.global_variables is deprecated. Please use tf.compat.v1.global_variables instead.\n",
      "\n",
      "Train on 16000210 samples, validate on 4000053 samples\n",
      "Epoch 1/15\n",
      "16000210/16000210 [==============================] - 535s 33us/step - loss: 0.7479 - mse: 0.7478 - val_loss: 0.7278 - val_mse: 0.7278\n",
      "Epoch 2/15\n",
      "16000210/16000210 [==============================] - 551s 34us/step - loss: 0.6889 - mse: 0.6889 - val_loss: 0.6803 - val_mse: 0.6803\n",
      "Epoch 3/15\n",
      "16000210/16000210 [==============================] - 531s 33us/step - loss: 0.6615 - mse: 0.6615 - val_loss: 0.6744 - val_mse: 0.6744\n",
      "Epoch 4/15\n",
      "16000210/16000210 [==============================] - 534s 33us/step - loss: 0.6401 - mse: 0.6401 - val_loss: 0.6718 - val_mse: 0.6718\n",
      "Epoch 5/15\n",
      "16000210/16000210 [==============================] - 528s 33us/step - loss: 0.6247 - mse: 0.6247 - val_loss: 0.6482 - val_mse: 0.6482\n",
      "Epoch 6/15\n",
      "16000210/16000210 [==============================] - 528s 33us/step - loss: 0.6126 - mse: 0.6126 - val_loss: 0.6447 - val_mse: 0.6447\n",
      "Epoch 7/15\n",
      "16000210/16000210 [==============================] - 530s 33us/step - loss: 0.6034 - mse: 0.6034 - val_loss: 0.6519 - val_mse: 0.6519\n",
      "Epoch 8/15\n",
      "16000210/16000210 [==============================] - 530s 33us/step - loss: 0.5962 - mse: 0.5962 - val_loss: 0.6437 - val_mse: 0.6437\n",
      "Epoch 9/15\n",
      "16000210/16000210 [==============================] - 533s 33us/step - loss: 0.5905 - mse: 0.5905 - val_loss: 0.6699 - val_mse: 0.6699\n",
      "Epoch 10/15\n",
      "16000210/16000210 [==============================] - 523s 33us/step - loss: 0.5861 - mse: 0.5861 - val_loss: 0.6422 - val_mse: 0.6422\n",
      "Epoch 11/15\n",
      "16000210/16000210 [==============================] - 522s 33us/step - loss: 0.5820 - mse: 0.5820 - val_loss: 0.6499 - val_mse: 0.6499\n",
      "Epoch 12/15\n",
      "16000210/16000210 [==============================] - 518s 32us/step - loss: 0.5790 - mse: 0.5790 - val_loss: 0.6468 - val_mse: 0.6468\n",
      "Epoch 13/15\n",
      "16000210/16000210 [==============================] - 503s 31us/step - loss: 0.5761 - mse: 0.5761 - val_loss: 0.6459 - val_mse: 0.6459\n",
      "Epoch 14/15\n",
      "16000210/16000210 [==============================] - 509s 32us/step - loss: 0.5738 - mse: 0.5738 - val_loss: 0.6489 - val_mse: 0.6489\n",
      "Epoch 15/15\n",
      "16000210/16000210 [==============================] - 527s 33us/step - loss: 0.5715 - mse: 0.5715 - val_loss: 0.6508 - val_mse: 0.6508\n"
     ]
    }
   ],
   "source": [
    "model = Model(inputs=[u, m], outputs=x)\n",
    "model.compile(\n",
    "  loss='mse',\n",
    "  # optimizer='adam',\n",
    "  # optimizer=Adam(lr=0.01),\n",
    "  optimizer=SGD(lr=0.08, momentum=0.9),\n",
    "  metrics=['mse'],\n",
    ")\n",
    "\n",
    "r = model.fit(\n",
    "  x=[df_train.userId.values, df_train.movie_idx.values],\n",
    "  y=df_train.rating.values - mu,\n",
    "  epochs=epochs,\n",
    "  batch_size=128,\n",
    "  validation_data=(\n",
    "    [df_test.userId.values, df_test.movie_idx.values],\n",
    "    df_test.rating.values - mu\n",
    "  )\n",
    ")\n"
   ]
  },
  {
   "cell_type": "code",
   "execution_count": 5,
   "metadata": {},
   "outputs": [
    {
     "data": {
      "image/png": "[encoded data removed]",
      "text/plain": [
       "<Figure size 432x288 with 1 Axes>"
      ]
     },
     "metadata": {
      "needs_background": "light"
     },
     "output_type": "display_data"
    }
   ],
   "source": [
    "# plot losses\n",
    "plt.plot(r.history['loss'], label=\"train loss\")\n",
    "plt.plot(r.history['val_loss'], label=\"test loss\")\n",
    "plt.legend()\n",
    "plt.show()"
   ]
  },
  {
   "cell_type": "code",
   "execution_count": 6,
   "metadata": {},
   "outputs": [],
   "source": [
    "#Plotamos o erro quadratico medio caso utilizemos regularizacao\n",
    "# plot mse\n",
    "#plt.plot(r.history['mse'], label=\"train mse\")\n",
    "#plt.plot(r.history['val_mse'], label=\"test mse\")\n",
    "#plt.legend()\n",
    "#plt.show()"
   ]
  },
  {
   "cell_type": "code",
   "execution_count": null,
   "metadata": {},
   "outputs": [],
   "source": []
  }
 ],
 "metadata": {
  "kernelspec": {
   "display_name": "Python 3",
   "language": "python",
   "name": "python3"
  },
  "language_info": {
   "codemirror_mode": {
    "name": "ipython",
    "version": 3
   },
   "file_extension": ".py",
   "mimetype": "text/x-python",
   "name": "python",
   "nbconvert_exporter": "python",
   "pygments_lexer": "ipython3",
   "version": "3.7.6"
  }
 },
 "nbformat": 4,
 "nbformat_minor": 4
}
